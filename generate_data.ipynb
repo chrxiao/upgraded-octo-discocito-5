{
 "cells": [
  {
   "cell_type": "code",
   "execution_count": null,
   "metadata": {},
   "outputs": [],
   "source": [
    "def generate_data(d,k):\n",
    "    \"\"\" Given the dictionary and a parameter k, generate an array of tuples to be used in the model.\n",
    "    \n",
    "    PARAMETERS\n",
    "    ---------\n",
    "    d: list of dictionaries of \n",
    "                lists of image dictionaries (map \"id\" and \"url\" to those numbers) and\n",
    "                lists of annotations dicts (map \"id\", \"image_id\", and \"caption\" to those things)\n",
    "    k: number of bad_img_ids to generate, first dimension of output array\n",
    "    \n",
    "    RETURN\n",
    "    ------\n",
    "    out:  numpy.ndarry of size (k,1), returning tuples of length 3 with (caption_id, good_img_id, bad_img_id)\n",
    "        caption_id and good_img_id are the same for each row but bad_img_id changes\n",
    "    \"\"\"\n"
   ]
  }
 ],
 "metadata": {
  "kernelspec": {
   "display_name": "Python 3",
   "language": "python",
   "name": "python3"
  },
  "language_info": {
   "codemirror_mode": {
    "name": "ipython",
    "version": 3
   },
   "file_extension": ".py",
   "mimetype": "text/x-python",
   "name": "python",
   "nbconvert_exporter": "python",
   "pygments_lexer": "ipython3",
   "version": "3.6.4"
  }
 },
 "nbformat": 4,
 "nbformat_minor": 2
}
