{
 "cells": [
  {
   "cell_type": "code",
   "execution_count": 2,
   "metadata": {},
   "outputs": [],
   "source": [
    "import numpy as np"
   ]
  },
  {
   "cell_type": "code",
   "execution_count": 11,
   "metadata": {},
   "outputs": [],
   "source": [
    "def create_image_to_urls_resnet(img_dict, resnet_dict):\n",
    "    \"\"\" Given the img dict and the resnet dictionary, \n",
    "    returns a dictionary that maps the image id to a tuple of the url and resnet feature.\n",
    "    \n",
    "    PARAMETERS\n",
    "    ----------\n",
    "    img_dict: list of image dictionaries (map \"id\" and \"url\" to those numbers), d[\"image\"]\n",
    "    resnet_dict: dictionary that maps image id to resnet feature\n",
    "    \n",
    "    RETURN\n",
    "    ------\n",
    "    out:  dictionary of 2 dictionaries that maps image id to url and to resnet feature\n",
    "    \"\"\"\n",
    "    \n",
    "    out = dict()\n",
    "    #url_dict = dict()\n",
    "    \n",
    "    url_dict = {entry[\"id\"]:entry[\"coco_url\"] for entry in img_dict if entry[\"id\"] in resnet_dict}\n",
    "    \n",
    "    out = {\"urls\":url_dict,\"resnet\":resnet_dict}\n",
    "    return out\n",
    "    "
   ]
  },
  {
   "cell_type": "code",
   "execution_count": 12,
   "metadata": {},
   "outputs": [
    {
     "data": {
      "text/plain": [
       "{'resnet': {10: (4, 5, 6, 7, 8, 9), 50: (1, 2, 3, 4, 5, 6)},\n",
       " 'urls': {10: 'woot', 50: 'yay'}}"
      ]
     },
     "execution_count": 12,
     "metadata": {},
     "output_type": "execute_result"
    }
   ],
   "source": [
    "\"\"\"\n",
    "img_dict = ({\"id\":50,\"coco_url\":\"yay\"},{\"id\":10,\"coco_url\":\"woot\"},{\"id\":20,\"coco_url\":\"yeote\"})\n",
    "resnet_dict = {50:(1,2,3,4,5,6),10:(4,5,6,7,8,9)}\n",
    "\n",
    "create_image_to_resnet_dictionary(img_dict,resnet_dict)\n",
    "\"\"\"\n",
    "\n"
   ]
  },
  {
   "cell_type": "code",
   "execution_count": 1,
   "metadata": {},
   "outputs": [],
   "source": [
    "def create_caption_id_to_string(capt_dict, resnet_dict):\n",
    "    \"\"\"Given the caption dictionary and resnet_dict, returns dictionary that maps caption id to its string\n",
    "    \n",
    "    PARAMETERS\n",
    "    ---------\n",
    "    capt_dict: list of caption dicts (map \"id\",\"image_id\", and \"caption\" to those vals), d[\"annotations\"]\n",
    "    resnet_dict: dictionary that maps image id to resnet feature\n",
    "    \n",
    "    RETURN\n",
    "    -----\n",
    "    out: dictionary that maps caption id to the string\n",
    "    \"\"\"\n",
    "    \n",
    "    out = {entry[\"id\"]:entry[\"caption\"] for entry in capt_dict if entry[\"image_id\"] in resnet_dict}\n",
    "    \n",
    "    return out"
   ]
  },
  {
   "cell_type": "code",
   "execution_count": 27,
   "metadata": {},
   "outputs": [],
   "source": [
    "\"\"\"\n",
    "capt_dict = ({\"id\":50,\"caption\":\"yay\",\"image_id\":5000},{\"id\":10,\"caption\":\"woot\",\"image_id\":50001},{\"id\":20,\"caption\":\"yeote\",\"image_id\":50000001})\n",
    "resnet_dict = {50:(1,2,3,4,5,6),10:(4,5,6,7,8,9),20:(1,2,9000,4,5,6)}\n",
    "\n",
    "capt_str = create_caption_id_to_string(capt_dict,resnet_dict)\n",
    "\"\"\""
   ]
  },
  {
   "cell_type": "code",
   "execution_count": 28,
   "metadata": {},
   "outputs": [],
   "source": [
    "def create_caption_id_to_embedding_string_img_id(capt_dict,embeddings,capt_id_string):\n",
    "    \"\"\"Given the caption dictionary, embedding dictionary,and capt_id_string dict, returns a dictionary of 3 dictionaries\n",
    "        that maps the caption to its image id, string, and embeddings\n",
    "    \n",
    "    PARAMETERS\n",
    "    ---------\n",
    "    capt_dict: list of caption dicts (map \"id\",\"image_id\", and \"caption\" to those vals), d[\"annotations\"]\n",
    "    embeddings: dictionary that maps caption id to embedding\n",
    "    capt_id_string: dictionary of embeddings \n",
    "    \n",
    "    RETURN\n",
    "    -----\n",
    "    out: dictionary of 3 dictionaries that maps caption id to image id,string,embeddings\n",
    "    \"\"\"\n",
    "    \n",
    "    out = dict()\n",
    "    capt_to_id= {entry[\"id\"]:entry[\"image_id\"] for entry in capt_dict if entry[\"id\"] in capt_id_string}\n",
    "    out = {\"img_id\":capt_to_id,\"semantics\":embeddings,\"string\":capt_id_string}\n",
    "    return out\n",
    "    "
   ]
  },
  {
   "cell_type": "code",
   "execution_count": 29,
   "metadata": {},
   "outputs": [
    {
     "data": {
      "text/plain": [
       "{'img_id': {10: 50001, 20: 50000001, 50: 5000},\n",
       " 'semantics': {5: (1, 2, 3, 4, 5), 7: (1, 2, 3, 4, 9), 10: (1, 2, 999, 4, 5)},\n",
       " 'string': {10: 'woot', 20: 'yeote', 50: 'yay'}}"
      ]
     },
     "execution_count": 29,
     "metadata": {},
     "output_type": "execute_result"
    }
   ],
   "source": [
    "\"\"\"\n",
    "embed = {5:(1,2,3,4,5),7:(1,2,3,4,9),10:(1,2,999,4,5)}\n",
    "create_caption_id_to_embedding_string_img_id(capt_dict,embed,capt_str)\n",
    "\"\"\""
   ]
  },
  {
   "cell_type": "code",
   "execution_count": null,
   "metadata": {},
   "outputs": [],
   "source": []
  }
 ],
 "metadata": {
  "kernelspec": {
   "display_name": "Python 3",
   "language": "python",
   "name": "python3"
  },
  "language_info": {
   "codemirror_mode": {
    "name": "ipython",
    "version": 3
   },
   "file_extension": ".py",
   "mimetype": "text/x-python",
   "name": "python",
   "nbconvert_exporter": "python",
   "pygments_lexer": "ipython3",
   "version": "3.6.5"
  }
 },
 "nbformat": 4,
 "nbformat_minor": 2
}
