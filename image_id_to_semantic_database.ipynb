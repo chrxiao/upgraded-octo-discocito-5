{
 "cells": [
  {
   "cell_type": "code",
   "execution_count": 1,
   "metadata": {
    "collapsed": true
   },
   "outputs": [],
   "source": [
    "import numpy as np"
   ]
  },
  {
   "cell_type": "code",
   "execution_count": 55,
   "metadata": {
    "collapsed": true
   },
   "outputs": [],
   "source": [
    "def populate_image_id_to_semantic_database(model, normalize, image_id_to_features):\n",
    "    \"\"\" Populates a database dictionary that maps image ids to their \n",
    "    normalized semantic features. \n",
    "    \n",
    "        Parameters\n",
    "        ----------\n",
    "        model : function\n",
    "            given a set of image features, return its semantic features\n",
    "            \n",
    "        normalize : function\n",
    "            returns the normalized semantic features\n",
    "            \n",
    "        image_id_to_features : dictionary\n",
    "            maps image ids to image features \n",
    "                    \n",
    "        Returns\n",
    "        -------\n",
    "        A database dictionary that maps image ids to normalized semantic \n",
    "        features. \"\"\"\n",
    "    \n",
    "    return {id:normalize(model(features)) for id, features in image_id_to_features.items()}"
   ]
  },
  {
   "cell_type": "code",
   "execution_count": 56,
   "metadata": {
    "collapsed": true
   },
   "outputs": [],
   "source": [
    "def test_model(features):\n",
    "    M = np.array([[0, 1],\n",
    "                  [2, 0],\n",
    "                  [1, 6]])\n",
    "    return np.matmul(features, M)"
   ]
  },
  {
   "cell_type": "code",
   "execution_count": 57,
   "metadata": {
    "collapsed": true
   },
   "outputs": [],
   "source": [
    "def test_normalize(features):\n",
    "    return features / np.linalg.norm(features)"
   ]
  },
  {
   "cell_type": "code",
   "execution_count": 58,
   "metadata": {},
   "outputs": [],
   "source": [
    "test_features = np.array([[[5., 7., 6.], \n",
    "                           [7., 9., 9.]],\n",
    "                          \n",
    "                          [[9., 4., 5.],\n",
    "                           [3., 6., 5.]]])\n",
    "\n",
    "test_id_to_features = {0:test_features[0], 1:test_features[1]}\n",
    "\n",
    "test_database = {0:test_normalize(test_model(test_features[0])),\n",
    "                 1:test_normalize(test_model(test_features[1]))}\n",
    "\n",
    "for test_id in range(len(test_database)):\n",
    "    assert np.all(test_database[test_id] == populate_id_to_semantic_database(test_model, test_normalize, test_id_to_features)[test_id])"
   ]
  },
  {
   "cell_type": "code",
   "execution_count": 62,
   "metadata": {},
   "outputs": [],
   "source": [
    "from sklearn.metrics.pairwise import cosine_similarity\n",
    "\n",
    "def search_database(query_vec, image_id_to_semantic_database, k):\n",
    "    \"\"\" Given a shape (50,) representative vector for a query, return\n",
    "    the top k image ids of images matching the query.\n",
    "    \n",
    "        Parameters\n",
    "        ----------\n",
    "        query_vec : nd.array\n",
    "            normalized semantic features of a query\n",
    "            \n",
    "        image_id_to_semantic_database : dictionary\n",
    "            maps image ids to normalized semantic features\n",
    "            \n",
    "        k : scalar\n",
    "            determines how many of the top image ids should be returned \n",
    "                    \n",
    "        Returns\n",
    "        -------\n",
    "        An array of shape (k,) containing the image ids of the top k \n",
    "        images. \"\"\"\n",
    "    \n",
    "    top_k_cos_sim = np.zeros(k)\n",
    "    top_k_id = np.zeros(k)\n",
    "    \n",
    "    for id, semantic in image_id_to_semantic_database.items():\n",
    "        cos_sim = cosine_similarity(query_vec.reshape(1, -1), semantic.reshape(1, -1))[0][0]\n",
    "        if cos_sim > np.min(top_k_cos_sim):\n",
    "            new_i = np.argmin(top_k_cos_sim)\n",
    "            top_k_cos_sim[new_i] = cos_sim\n",
    "            top_k_id[new_i] = id\n",
    "            \n",
    "    # sort in descending order 1 -> 0\n",
    "    sort_i = np.argsort(top_k_cos_sim)[::-1]\n",
    "    return top_k_id[sort_i]"
   ]
  },
  {
   "cell_type": "code",
   "execution_count": 61,
   "metadata": {},
   "outputs": [],
   "source": [
    "# this test is not with normalized semantic features for either the query or the image features\n",
    "\n",
    "test_query_vec = np.array([6, 2, 2, 5, 0])\n",
    "\n",
    "test_image_id_to_semantic_database = {0:np.array([6, 1, 4, 3, 3]), \n",
    "                                      1:np.array([8, 7, 6, 3, 2]), \n",
    "                                      2:np.array([0, 0, 2, 9, 9]), \n",
    "                                      3:np.array([7, 8, 6, 0, 9]), \n",
    "                                      4:np.array([3, 2, 4, 3, 0])}\n",
    "\n",
    "test_top_k = np.array([4, 0, 1, 3, 2])\n",
    "\n",
    "assert np.all(test_top_k == search_database(test_query_vec, test_image_id_to_semantic_database, k = test_query_vec.shape[0]))"
   ]
  }
 ],
 "metadata": {
  "kernelspec": {
   "display_name": "Python 3",
   "language": "python",
   "name": "python3"
  },
  "language_info": {
   "codemirror_mode": {
    "name": "ipython",
    "version": 3
   },
   "file_extension": ".py",
   "mimetype": "text/x-python",
   "name": "python",
   "nbconvert_exporter": "python",
   "pygments_lexer": "ipython3",
   "version": "3.6.3"
  }
 },
 "nbformat": 4,
 "nbformat_minor": 2
}
